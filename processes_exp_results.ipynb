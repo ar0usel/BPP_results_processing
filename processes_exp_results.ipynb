{
 "cells": [
  {
   "cell_type": "code",
   "execution_count": 5,
   "metadata": {},
   "outputs": [],
   "source": [
    "import pandas as pd"
   ]
  },
  {
   "cell_type": "code",
   "execution_count": 6,
   "metadata": {},
   "outputs": [],
   "source": [
    "def print_res(data):\n",
    "    for el in data.items():\n",
    "        el[1][\"BallPossession%\"] = el[1][\"ballPossession\"]/el[1][\"time\"]*100\n",
    "        res = el[1][\"success\"].value_counts().to_dict()\n",
    "        print(el[0])\n",
    "        if True in res.keys():\n",
    "            print(\"Success rate =\", round(100 * res[True]/(res[True] + res[False]), 4), \"%\" )\n",
    "        else:\n",
    "            print(\"Success rate = 0%\")\n",
    "            continue\n",
    "\n",
    "        success = el[1][el[1][\"success\"] == True]\n",
    "\n",
    "        # removing outliers\n",
    "        if (el[0] == \"planning\"):\n",
    "            success = success[success[\"nb_of_kicks\"] <= 6]\n",
    "\n",
    "        print(\"BallPossession =\", round(success[\"BallPossession%\"].mean(),4), \"%\")\n",
    "        print(\"Time before goal =\", success[\"time\"].mean())\n",
    "        print(\"Kicks before goal =\", success[\"nb_of_kicks\"].mean())\n",
    "        print(\"====\"*10)"
   ]
  },
  {
   "cell_type": "markdown",
   "metadata": {},
   "source": [
    "# Experiments"
   ]
  },
  {
   "cell_type": "markdown",
   "metadata": {},
   "source": [
    "## 2m kick length, random generation"
   ]
  },
  {
   "cell_type": "code",
   "execution_count": 7,
   "metadata": {},
   "outputs": [
    {
     "name": "stdout",
     "output_type": "stream",
     "text": [
      "expert\n",
      "Success rate = 38.3838 %\n",
      "BallPossession = 88.6085 %\n",
      "Time before goal = 40.75315789473725\n",
      "Kicks before goal = 2.973684210526316\n",
      "========================================\n",
      "planning\n",
      "Success rate = 38.3838 %\n",
      "BallPossession = 85.5407 %\n",
      "Time before goal = 55.7432432432459\n",
      "Kicks before goal = 3.3513513513513513\n",
      "========================================\n",
      "forward\n",
      "Success rate = 33.3333 %\n",
      "BallPossession = 92.0989 %\n",
      "Time before goal = 41.7830303030321\n",
      "Kicks before goal = 2.9393939393939394\n",
      "========================================\n",
      "reactive\n",
      "Success rate = 28.2828 %\n",
      "BallPossession = 88.7478 %\n",
      "Time before goal = 51.05785714285971\n",
      "Kicks before goal = 3.3214285714285716\n",
      "========================================\n"
     ]
    }
   ],
   "source": [
    "reactive = pd.read_json(r'results/FORWARD_result2020-05-08-16.01.31.json').T\n",
    "planning = pd.read_json(r'results/FORWARD_result2020-05-08-13.24.45.json').T\n",
    "expert = pd.read_json(r'results/FORWARD_result2020-05-07-22.31.06.json').T\n",
    "forward = pd.read_json(r'results/FORWARD_result2020-05-08-03.15.41.json').T\n",
    "data = {\"expert\": expert, \"planning\": planning, \"forward\": forward, \"reactive\": reactive}\n",
    "\n",
    "print_res(data)"
   ]
  },
  {
   "cell_type": "markdown",
   "metadata": {},
   "source": [
    "## 4m kick length, random generation"
   ]
  },
  {
   "cell_type": "code",
   "execution_count": 8,
   "metadata": {},
   "outputs": [
    {
     "name": "stdout",
     "output_type": "stream",
     "text": [
      "expert\n",
      "Success rate = 46.4646 %\n",
      "BallPossession = 96.816 %\n",
      "Time before goal = 21.620335055434186\n",
      "Kicks before goal = 2.3043478260869565\n",
      "========================================\n",
      "planning\n",
      "Success rate = 49.4949 %\n",
      "BallPossession = 96.3252 %\n",
      "Time before goal = 34.04517570563725\n",
      "Kicks before goal = 2.9285714285714284\n",
      "========================================\n",
      "forward\n",
      "Success rate = 16.1616 %\n",
      "BallPossession = 98.0864 %\n",
      "Time before goal = 42.89237916469574\n",
      "Kicks before goal = 3.375\n",
      "========================================\n",
      "reactive\n",
      "Success rate = 51.5152 %\n",
      "BallPossession = 94.2199 %\n",
      "Time before goal = 36.844351558124316\n",
      "Kicks before goal = 3.392156862745098\n",
      "========================================\n"
     ]
    }
   ],
   "source": [
    "expert = pd.read_json(r'results/EXPERT_4m_result2020-05-12-19.06.02.json').T\n",
    "planning = pd.read_json(r'results/PLANING_4m_result2020-05-12-16.25.47.json').T\n",
    "forward = pd.read_json(r'results/FORWARD_result2020-05-14-15.24.03.json').T\n",
    "reactive = pd.read_json(r'results/EXPERT_4m_result2020-05-12-23.52.52.json').T\n",
    "data = {\"expert\": expert, \"planning\": planning, \"forward\": forward, \"reactive\": reactive}\n",
    "\n",
    "print_res(data)"
   ]
  },
  {
   "cell_type": "markdown",
   "metadata": {},
   "source": [
    "## 4m kick length, \"real\" generation"
   ]
  },
  {
   "cell_type": "code",
   "execution_count": 9,
   "metadata": {},
   "outputs": [
    {
     "name": "stdout",
     "output_type": "stream",
     "text": [
      "expert\n",
      "Success rate = 3.0303 %\n",
      "BallPossession = 65.3618 %\n",
      "Time before goal = 63.636894623438515\n",
      "Kicks before goal = 4.333333333333333\n",
      "========================================\n",
      "planning\n",
      "Success rate = 6.0606 %\n",
      "BallPossession = 46.4101 %\n",
      "Time before goal = 88.63128014405568\n",
      "Kicks before goal = 4.333333333333333\n",
      "========================================\n",
      "reactive\n",
      "Success rate = 6.0606 %\n",
      "BallPossession = 46.5316 %\n",
      "Time before goal = 86.3427046140035\n",
      "Kicks before goal = 4.5\n",
      "========================================\n",
      "forward\n",
      "Success rate = 0%\n"
     ]
    }
   ],
   "source": [
    "expert = pd.read_json(r'results/EXPERT_4m_specific_gen_result2020-05-15-00.49.06.json').T\n",
    "planning = pd.read_json(r'results/PLANNIG_4m_specific_gen_result2020-05-14-19.18.00.json').T\n",
    "forward = pd.read_json(r'results/FORWARD_4m_specific_gen_result2020-05-15-02.10.11.json').T\n",
    "reactive = pd.read_json(r'results/REACTIVE_4m_specific_gen_result2020-05-14-20.41.19.json').T\n",
    "data = {\"expert\": expert, \"planning\": planning, \"reactive\": reactive, \"forward\": forward}\n",
    "\n",
    "print_res(data)"
   ]
  }
 ],
 "metadata": {
  "kernelspec": {
   "display_name": "Python 3",
   "language": "python",
   "name": "python3"
  },
  "language_info": {
   "codemirror_mode": {
    "name": "ipython",
    "version": 3
   },
   "file_extension": ".py",
   "mimetype": "text/x-python",
   "name": "python",
   "nbconvert_exporter": "python",
   "pygments_lexer": "ipython3",
   "version": "3.6.9"
  }
 },
 "nbformat": 4,
 "nbformat_minor": 4
}
